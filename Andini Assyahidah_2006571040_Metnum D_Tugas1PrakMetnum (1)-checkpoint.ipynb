{
 "cells": [
  {
   "cell_type": "code",
   "execution_count": 22,
   "metadata": {},
   "outputs": [
    {
     "name": "stdout",
     "output_type": "stream",
     "text": [
      "Masukkan formula fungsi: log(x-1)+cos(x-1)-0.2\n",
      "masukkan titik awal pertama: 2.5\n",
      "masukkan titik awal kedua: 3.5\n",
      "masukkan toleransi aproksimasi: 0.00001\n",
      "akar dari persamaan f(x)=log(x-1)+cos(x-1)-0.2 adalah x: 3.19988\n"
     ]
    }
   ],
   "source": [
    "import numpy #import module\n",
    "from numpy import sin,cos,log,exp\n",
    "formula=input('Masukkan formula fungsi: ')\n",
    "\n",
    "def f(x):\n",
    "    return eval(formula)\n",
    "def FalsePosition (p0,p1,tolerance):#mendefinisikan fungsi FalsePosition\n",
    "    if f(p0)*f(p1)<0: #berlawanan tanda\n",
    "        p=p1-(f(p1)*(p1-p0))/(f(p1)-f(p0)) #rumus metode falsePosition\n",
    "        abs_error=abs(p-p1)\n",
    "        while abs_error>=tolerance:\n",
    "            p=p1-(f(p1)*(p1-p0))/(f(p1)-f(p0))#rumus metode falsePosition\n",
    "            abs_error=abs(p-p1) #nilai error\n",
    "            if f(p0)*f(p)>0:\n",
    "                p0=p \n",
    "            if f(p1)*f(p)>0:\n",
    "                p1=p\n",
    "        return p\n",
    "    else:\n",
    "        print(\"error\") #jika f(p0) dan f(p1) tidak berlawanan tanda\n",
    "\n",
    "starting_point1= eval(input(\"masukkan titik awal pertama: \"))\n",
    "starting_point2=eval(input('masukkan titik awal kedua: '))\n",
    "tolerance=eval(input('masukkan toleransi aproksimasi: '))\n",
    "akar_FalsePosition=FalsePosition(starting_point1, starting_point2, tolerance)\n",
    "\n",
    "print(\"akar dari persamaan f(x)={0} adalah x: {1:.5f}\".format(formula,akar_FalsePosition))"
   ]
  },
  {
   "cell_type": "markdown",
   "metadata": {},
   "source": [
    "metode FalsePosition\n",
    "Salah satu alternatif untuk mempercepat perhitungan akar (solusi).\n",
    "Metode ini merupakan gabungan dari metode Secant dan metode Bisection.\n",
    "memiliki proses iterasi lebih cepat dari metode bisection\n",
    "Algoritmanya\n",
    "1. mendefinisikan fungsi\n",
    "2. jika f(p0)*f(p1)<0 maka akan dicari nilai p\n",
    "3. saat nilai errornya lebih dari nilai toleransi, program akan terus mencari p\n",
    "4. bila F(X0)*F(X2) <0 maka intervalnya menjadi \t[X0 , X2]\n",
    "5. bila F(X0)*F(X2) >0 maka intervalnya menjadi \t[X2 , X1]\n",
    "6. jika f(p0)*f(p1)>0 maka akan error\n",
    "7. print hasil akar x"
   ]
  },
  {
   "cell_type": "code",
   "execution_count": null,
   "metadata": {},
   "outputs": [],
   "source": [
    "import numpy #import module\n",
    "from numpy import sin,cos,log,exp\n",
    "formula=input('Masukkan formula fungsi: ')\n",
    "\n",
    "def f(x):\n",
    "    return eval(formula)\n",
    "def FalsePosition (p0,p1,tolerance):#mendefinisikan fungsi FalsePosition\n",
    "    if f(p0)*f(p1)<0: #berlawanan tanda\n",
    "        p=p1-(f(p1)*(p1-p0))/(f(p1)-f(p0)) #rumus metode falsePosition\n",
    "        abs_error=abs(p-p1)\n",
    "        while abs_error>=tolerance:\n",
    "            p=p1-(f(p1)*(p1-p0))/(f(p1)-f(p0))#rumus metode falsePosition\n",
    "            abs_error=abs(p-p1) #nilai error\n",
    "            if f(p0)*f(p)>0:\n",
    "                p0=p \n",
    "            if f(p1)*f(p)>0:\n",
    "                p1=p\n",
    "        return p\n",
    "    else:\n",
    "        print(\"error\") #jika f(p0) dan f(p1) tidak berlawanan tanda\n",
    "\n",
    "starting_point1= eval(input(\"masukkan titik awal pertama: \"))\n",
    "starting_point2=eval(input('masukkan titik awal kedua: '))\n",
    "tolerance=eval(input('masukkan toleransi aproksimasi: '))\n",
    "akar_FalsePosition=FalsePosition(starting_point1, starting_point2, tolerance)\n",
    "\n",
    "print(\"akar dari persamaan f(x)={0} adalah x: {1:.5f}\".format(formula,akar_FalsePosition))"
   ]
  },
  {
   "cell_type": "code",
   "execution_count": null,
   "metadata": {},
   "outputs": [],
   "source": []
  }
 ],
 "metadata": {
  "kernelspec": {
   "display_name": "Python 3",
   "language": "python",
   "name": "python3"
  },
  "language_info": {
   "codemirror_mode": {
    "name": "ipython",
    "version": 3
   },
   "file_extension": ".py",
   "mimetype": "text/x-python",
   "name": "python",
   "nbconvert_exporter": "python",
   "pygments_lexer": "ipython3",
   "version": "3.8.5"
  }
 },
 "nbformat": 4,
 "nbformat_minor": 4
}
