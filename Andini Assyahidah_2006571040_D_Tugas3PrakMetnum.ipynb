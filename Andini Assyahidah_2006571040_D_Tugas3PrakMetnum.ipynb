{
 "cells": [
  {
   "cell_type": "code",
   "execution_count": null,
   "metadata": {},
   "outputs": [
    {
     "name": "stdout",
     "output_type": "stream",
     "text": [
      "Masukkan titik dimana nilai turunan fungsinya akan diaproksimasi : 2.4\n",
      "\n",
      "Turunan Pertama=1 \n",
      "Turunan kedua=2 \n",
      "Turunan ketiga=3 \n",
      "Mau mencari diturunan ke berapa?1\n",
      "\n",
      "4 metode turunan numerik \n",
      "a.Three point end point(TPEP)\n",
      "b.Three point mid point(TPMP)\n",
      "c.Five Point end point(FPEP)\n",
      "d.Five point mid point(FPMP)\n",
      "\n"
     ]
    }
   ],
   "source": [
    "import numpy as np\n",
    "\n",
    "x0 = input('Masukkan titik dimana nilai turunan fungsinya akan diaproksimasi : ') #titik yang akan dicari turunannya\n",
    "h  = 0.1 #besar stepsize\n",
    "\n",
    "print(\"\\nTurunan Pertama=1 \")\n",
    "print(\"Turunan kedua=2 \")\n",
    "print(\"Turunan ketiga=3 \")\n",
    "Turunan= eval(input(\"Mau mencari diturunan ke berapa?\")) #pilihan mau mencari turunan keberapa\n",
    "\n",
    "print(\"\\n4 metode turunan numerik \")\n",
    "print(\"a.Three point end point(TPEP)\")\n",
    "print(\"b.Three point mid point(TPMP)\")\n",
    "print(\"c.Five Point end point(FPEP)\")\n",
    "print(\"d.Five point mid point(FPMP)\\n\")\n",
    "metode=input(\"Pilih metode yang akan digunakan: \") #input pilihan metode turunan numerik\n",
    "\n",
    "x= [2.4,2.5,2.6,2.7,2.8,2.9,3.0]\n",
    "y= [1.76601,1.87697,1.97803,2.06988,2.15357,2.22953,2.29859]\n",
    "\n",
    "def f(x):\n",
    "    return eval(x0)\n",
    "\n",
    "if Turunan==1:\n",
    "    if metode==\"a\":\n",
    "        def TPEP(x,h): #three point end point\n",
    "            h  = 0.1\n",
    "            return (1/(2*h))*(-3*f(x)+4*f(x+h)-f(x+2*h))\n",
    "        print('Turunan dari f di x0 = {0} adalah : '.format(x0))\n",
    "        print(\"f'({0}) = {1:.7f} (Three Point Midpoint)\".format(x0,TPEP(x0,h))) #menampilkan hasil turunan dengan metode TPEP\n",
    "    elif metode==\"b\":\n",
    "        def TPMP(x,h): #three point midpoint\n",
    "            return (1/(2*h))*(f(x+h)-f(x-h))\n",
    "        print('Turunan dari f di x0 = {0} adalah : '.format(x0))\n",
    "        print(\"f'({0}) = {1:.7f} (Three Point Midpoint)\".format(x0,TPMP(x0,h)))#menampilkan hasil turunan dengan metode TPMP\n",
    "    elif metode==\"c\": \n",
    "        def FPEP(x,h): #Five Point End Point\n",
    "            return (1/(12*h))*(-25*f(x)+48*f(x+h)-36*f(x+2*h)+16*f(x+3*h)-3*f(x+4*h))\n",
    "        print('Turunan dari f di x0 = {0} adalah : '.format(x0))\n",
    "        print(\"f'({0}) = {1:.7f} (Five Point Endpoint)\".format(x0,FPEP(x0,h)))#menampilkan hasil turunan dengan metode FPEP\n",
    "    elif metode==\"d\":\n",
    "        def FPMP(x,h): #Five Point Mid Point\n",
    "            return (1/(12*h))*(f(x-2*h)-8*f(x-h)+8*f(x+h)-f(x+2*h))\n",
    "        print('Turunan dari f di x0 = {0} adalah : '.format(x0))\n",
    "        print(\"f'({0}) = {1:.7f} (Five Point Midpoint)\".format(x0,FPMP(x0,h)))#menampilkan hasil turunan dengan metode FPMP\n",
    "        \n",
    "if Turunan==2:\n",
    "    print(\"1= Selisih maju, 2= Selisih pusat\")\n",
    "    selisih= eval(input(\"Masukkan metode turunan: \"))\n",
    "    if selisih==1:\n",
    "        def selisihmaju(x,h):\n",
    "            return (1/(h*2))(f(x+2*h)-2*f(x+h)+f(x))\n",
    "        print('Turunan kedua dari f di x0 = {0} adalah : '.format(x0))\n",
    "        print(\"f''({0}) = {1:.7f} (Selisih Maju Formula)\".format(x0,selisihmaju(x0,h)))\n",
    "    if selisih==2:\n",
    "        def selisihpusat(x,h):\n",
    "            return (1/(h*2))(f(x+h)-2*f(x)+f(x-h))\n",
    "        print('Turunan kedua dari f di x0 = {0} adalah : '.format(x0))\n",
    "        print(\"f''({0}) = {1:.7f} (Selisih Pusat Formula)\".format(x0,selisihpusat(x0,h)))\n",
    "        \n",
    "if Turunan==3:\n",
    "    selisih = input('Masukan metode yang ingin digunakan : ')\n",
    "    if selisih == 1:\n",
    "        def selisihmaju(x,h):\n",
    "            return (1/(h*3))(f(x+3*h)-3*f(x+2*h)+3*f(x+h)-f(x))\n",
    "        print('Turunan ketiga dari f di x0 = {0} adalah : '.format(x0))\n",
    "        print(\"f'''({0}) = {1:.7f} (Selisih Maju Formula)\".format(x0,selisihmaju(x0,h)))\n",
    "    else:\n",
    "        def selisihpusat(x,h):\n",
    "            return (1/(2*(h*3)))(f(x+2*h)-2*f(x+h)+2*f(x-h)-f(x-2*h))\n",
    "        print('Turunan ketiga dari f di x0 = {0} adalah : '.format(x0))\n",
    "        print(\"f'''({0}) = {1:.7f} (Selisih Pusat Formula)\".format(x0,selisihpusat(x0,h)))\n"
   ]
  },
  {
   "cell_type": "markdown",
   "metadata": {},
   "source": [
    "#### a. Three point Formula\n",
    "\n",
    "- Endpoint = $ f'(x)\\approx\\frac{1}{2h}[-3f(x_0)+4f(x_0+h)-f(x_0+2h)]$\n",
    "- MidPoint = $ f'(x)\\approx\\frac{1}{2h}[f(x_0+h)-f(x_0-h)]$\n",
    "\n",
    "#### b. Five Point Formula\n",
    "- endpoint = $ f'(x)\\approx\\frac{1}{12h}[-25f(x_0)+48f(x_0+h)-36f(x_0+2h)+16f(x_0+3h)-3f(x_0+4h)]$\n",
    "- Midpoint = $ f'(x)\\approx\\frac{1}{12h}[f(x_0-2h)-8f(x_0-h)+8f(x_0+h)-f(x_0+2h)]$ \n"
   ]
  },
  {
   "cell_type": "markdown",
   "metadata": {},
   "source": [
    "Program untuk mencari turunan numerik dengan menggunakan 4 metode\n",
    "- input titik yang akan diaproksimasikan nilai turunannya\n",
    "- input pilihan turunan yang akan dicari yaitu turunan pertama, kedua, atau ketiga\n",
    "- input metode yang akan digunakan yaitu TPEP,TPMP,FPEP,atau FPMP\n",
    "- print hasil turunan di titik x beserta nama metode yang digunakan"
   ]
  },
  {
   "cell_type": "code",
   "execution_count": null,
   "metadata": {},
   "outputs": [],
   "source": []
  }
 ],
 "metadata": {
  "kernelspec": {
   "display_name": "Python 3",
   "language": "python",
   "name": "python3"
  },
  "language_info": {
   "codemirror_mode": {
    "name": "ipython",
    "version": 3
   },
   "file_extension": ".py",
   "mimetype": "text/x-python",
   "name": "python",
   "nbconvert_exporter": "python",
   "pygments_lexer": "ipython3",
   "version": "3.8.5"
  }
 },
 "nbformat": 4,
 "nbformat_minor": 4
}
